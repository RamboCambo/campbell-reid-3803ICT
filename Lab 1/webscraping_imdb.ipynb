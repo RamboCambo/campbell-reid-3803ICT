{
 "cells": [
  {
   "cell_type": "code",
   "execution_count": 42,
   "metadata": {},
   "outputs": [],
   "source": [
    "# Write a Python script to download IMDB 250 Top Rated Movies.\n",
    "# For each movie, you'll need to retrieve the movie title, the ranking, the initial release year, the casting and \n",
    "# the rating.\n",
    "# Your data must be stored in a proper imdb_top_250.csv file.\n",
    "\n",
    "import requests, csv, re\n",
    "from bs4 import BeautifulSoup\n",
    "\n",
    "def get_movies(url):\n",
    "    response = requests.get(url)\n",
    "    soup_imdb = BeautifulSoup(response.text)\n",
    "\n",
    "    all_movies = soup_imdb.find_all(\"td\", {\"class\":\"titleColumn\"})\n",
    "\n",
    "    # get movie title :\n",
    "    titles = [href.text for movie in all_movies for href in movie.find('a')]\n",
    "\n",
    "    rankings = [re.sub(r'\\D', '', rank) for movie in all_movies for rank in movie.find_all(text=True, recursive=False)]\n",
    "    rankings = [ranking for ranking in rankings if ranking != '']\n",
    "\n",
    "    # get release year :\n",
    "    years = [movie.find('span', {'class':'secondaryInfo'}).text.strip(\"()\") for movie in all_movies]\n",
    "\n",
    "    # get casting :\n",
    "    castings = [movie.find('a').get('title').strip('\"') for movie in all_movies]\n",
    "\n",
    "    #get rating :\n",
    "    ratings = [ls.find('strong').text for ls in soup_imdb.find_all('td', {'class':'ratingColumn imdbRating'})]\n",
    "\n",
    "    mega_list = list(zip(titles, rankings, years, castings, ratings))\n",
    "    mega_list = [list(elt) for elt in mega_list]\n",
    "\n",
    "    # Write csv\n",
    "    str_lst = [f\"{mega_list[i][1]} / {mega_list[i][0]} ({mega_list[i][2]}) / Starring: {mega_list[i][3]}\" \\\n",
    "    for i, val in enumerate(mega_list)]\n",
    "\n",
    "    res = [elt.split(\"/\") for elt in str_lst]\n",
    "\n",
    "    with open(\"imdb_top_250.csv\", \"w\") as f:\n",
    "        writer = csv.writer(f, delimiter=\"-\")\n",
    "        writer.writerow(['Ranking', 'Title', 'Rating'])\n",
    "        writer.writerows(res)"
   ]
  },
  {
   "cell_type": "code",
   "execution_count": 43,
   "metadata": {},
   "outputs": [],
   "source": [
    "def main():\n",
    "    url = \"https://www.imdb.com/chart/top\"\n",
    "    get_movies(url)\n",
    "    \n",
    "\n",
    "if __name__ == \"__main__\":\n",
    "    main()"
   ]
  },
  {
   "cell_type": "code",
   "execution_count": 44,
   "metadata": {},
   "outputs": [],
   "source": [
    "import pandas as pd\n",
    "\n",
    "#Read CSV and show the first 5 rows"
   ]
  },
  {
   "cell_type": "code",
   "execution_count": 45,
   "metadata": {},
   "outputs": [
    {
     "data": {
      "text/html": [
       "<div>\n",
       "<style scoped>\n",
       "    .dataframe tbody tr th:only-of-type {\n",
       "        vertical-align: middle;\n",
       "    }\n",
       "\n",
       "    .dataframe tbody tr th {\n",
       "        vertical-align: top;\n",
       "    }\n",
       "\n",
       "    .dataframe thead th {\n",
       "        text-align: right;\n",
       "    }\n",
       "</style>\n",
       "<table border=\"1\" class=\"dataframe\">\n",
       "  <thead>\n",
       "    <tr style=\"text-align: right;\">\n",
       "      <th></th>\n",
       "      <th>Ranking</th>\n",
       "      <th>Title</th>\n",
       "      <th>Rating</th>\n",
       "    </tr>\n",
       "  </thead>\n",
       "  <tbody>\n",
       "    <tr>\n",
       "      <th>0</th>\n",
       "      <td>1</td>\n",
       "      <td>The Shawshank Redemption (1994)</td>\n",
       "      <td>Starring: Frank Darabont (dir.), Tim Robbins,...</td>\n",
       "    </tr>\n",
       "    <tr>\n",
       "      <th>1</th>\n",
       "      <td>2</td>\n",
       "      <td>The Godfather (1972)</td>\n",
       "      <td>Starring: Francis Ford Coppola (dir.), Marlon...</td>\n",
       "    </tr>\n",
       "    <tr>\n",
       "      <th>2</th>\n",
       "      <td>3</td>\n",
       "      <td>The Dark Knight (2008)</td>\n",
       "      <td>Starring: Christopher Nolan (dir.), Christian...</td>\n",
       "    </tr>\n",
       "    <tr>\n",
       "      <th>3</th>\n",
       "      <td>4</td>\n",
       "      <td>The Godfather: Part II (1974)</td>\n",
       "      <td>Starring: Francis Ford Coppola (dir.), Al Pac...</td>\n",
       "    </tr>\n",
       "    <tr>\n",
       "      <th>4</th>\n",
       "      <td>5</td>\n",
       "      <td>12 Angry Men (1957)</td>\n",
       "      <td>Starring: Sidney Lumet (dir.), Henry Fonda, L...</td>\n",
       "    </tr>\n",
       "  </tbody>\n",
       "</table>\n",
       "</div>"
      ],
      "text/plain": [
       "   Ranking                              Title  \\\n",
       "0        1   The Shawshank Redemption (1994)    \n",
       "1        2              The Godfather (1972)    \n",
       "2        3            The Dark Knight (2008)    \n",
       "3        4     The Godfather: Part II (1974)    \n",
       "4        5               12 Angry Men (1957)    \n",
       "\n",
       "                                              Rating  \n",
       "0   Starring: Frank Darabont (dir.), Tim Robbins,...  \n",
       "1   Starring: Francis Ford Coppola (dir.), Marlon...  \n",
       "2   Starring: Christopher Nolan (dir.), Christian...  \n",
       "3   Starring: Francis Ford Coppola (dir.), Al Pac...  \n",
       "4   Starring: Sidney Lumet (dir.), Henry Fonda, L...  "
      ]
     },
     "execution_count": 45,
     "metadata": {},
     "output_type": "execute_result"
    }
   ],
   "source": [
    "df = pd.read_csv('imdb_top_250.csv', delimiter='-', encoding='latin1')\n",
    "df.head()"
   ]
  },
  {
   "cell_type": "code",
   "execution_count": null,
   "metadata": {},
   "outputs": [],
   "source": []
  }
 ],
 "metadata": {
  "kernelspec": {
   "display_name": "Python 3 (ipykernel)",
   "language": "python",
   "name": "python3"
  },
  "language_info": {
   "codemirror_mode": {
    "name": "ipython",
    "version": 3
   },
   "file_extension": ".py",
   "mimetype": "text/x-python",
   "name": "python",
   "nbconvert_exporter": "python",
   "pygments_lexer": "ipython3",
   "version": "3.9.13"
  }
 },
 "nbformat": 4,
 "nbformat_minor": 4
}
